{
 "cells": [
  {
   "cell_type": "markdown",
   "metadata": {},
   "source": [
    "# Python\n",
    "Python es un lenguaje de programación libre orientado a objetos, desarrollado a finales de los 80's. Desde su creación se sigue desarrollando y refinando. \n",
    "Algunas referencias son:\n",
    "* Sitio web con manuales y más información: https://www.python.org/about/\n",
    "* Introduction to Python for Computational Science and Engineering, Hans Fangohr\n",
    "* Python, Chris Fehly (Peachpit Press, CA, 2nd ed.)\n",
    "* Python Essential Reference, David M. Beazley (Addison-Wesley, 4th ed.)\n",
    "* Primer on Scientific Programming with Python, Hans P. Langtangen (Springer-Verlag, 2009)"
   ]
  },
  {
   "cell_type": "markdown",
   "metadata": {},
   "source": [
    "## Instalación\n",
    "Para correr un código escrito en Python se recomienda usar un IDE, que es un entorno de programación integrada. Los IDE's incluyen un editor de código, un compilador, un depurador y un entorno gráfico. \n",
    "\n",
    "En este curso usaremos la distribución gratuita [Anaconda][], que contiene el IDE Spyder y el block de notas [Jupyter][], que es un ambiente computacional interactivo, en donde se combina texto, se ejecuta codigo, y se obtienen graficas. Instalar la versión [Python 3.7][] siguiendo los pasos del instalador (https://www.anaconda.com/distribution/).\n",
    "\n",
    "Para utilizar el block de notas [Jupyter][], se pueden consultar los siguientes manuales: [Jupyter_manual] y [Jupyter-notebook].\n",
    "\n",
    "[Spyder]:   https://www.spyder-ide.org/\n",
    "[Anaconda]: https://www.anaconda.com/\n",
    "[Jupyter]:  https://jupyter.org/\n",
    "[Python 3.7]: https://repo.anaconda.com/archive/Anaconda3-2019.03-MacOSX-x86_64.pkg\n",
    "[Jupyter_manual]: https://jupyter.brynmawr.edu/services/public/dblank/Jupyter%20Notebook%20Users%20Manual.ipynb\n",
    "[Jupyter-notebook]:https://buildmedia.readthedocs.org/media/pdf/jupyter-notebook/latest/jupyter-notebook.pdf\n",
    "[IBM_Jupyter]: https://www.ibm.com/support/knowledgecenter/en/SSGNPV_1.1.3/dsx/markd-jupyter.html\n",
    "[Other]: https://sourceforge.net/p/jupiter/wiki/markdown_syntax/"
   ]
  },
  {
   "cell_type": "markdown",
   "metadata": {},
   "source": [
    "## Definición de variables\n",
    "En python se pueden usar variables tipo entero, flotantes, caractéres, etc. Para definir una variable como flotante se usa un punto (__numero.0__ ), y para caractéres se usan comillas (**'carácter'** o **''carácter''**). Para ver que tipo de variable es, se utiliza la funcyón **type**."
   ]
  },
  {
   "cell_type": "code",
   "execution_count": null,
   "metadata": {},
   "outputs": [],
   "source": [
    "b = 2       # b entero\n",
    "print(b, type(b))\n",
    "b = 2.0     # b flotante \n",
    "print(b, type(b))\n",
    "b = 'Hola 2.0'   # b es un caracter\n",
    "print(b, type(b))"
   ]
  },
  {
   "cell_type": "markdown",
   "metadata": {},
   "source": [
    "## Objetos en Python\n",
    "Python tiene dos tipos de objetos para manejar varios números o secuencias de caractéres.\n",
    "* **Listas: b = [0, 1, 2, 3, 'cuatro', 'cinco']**\n",
    "* **Tuplas (Tuples): b = (0, 1, 2, 3, 4, 5)**\n",
    "\n",
    "En Python, el primer elemento es el cero **(0)**, si la lista o el carácter contiene **(N)** elementos, el último elemento es el __N-1__. Un elemento de una lista o un carácter se obtiene usando parentesis cuadrados **(variable[numero de elemento])**. La principal diferencia entre una tupla y una lista, es que las tuplas son inmutables, es decir nos e pueden modificar.  \n"
   ]
  },
  {
   "cell_type": "code",
   "execution_count": null,
   "metadata": {},
   "outputs": [],
   "source": [
    "# Listas\n",
    "List  = ['string', 1, 2]                # Crear una lista\n",
    "print(List)\n",
    "print(List[0])                          # Selecciona el primer elemento de la lista\n",
    "print(List[2])                          # Selecciona el último elemento de la lista\n",
    "print(List[0:2])                        # Selecciona los primeros dos elementos con posición 0 y 2 sin el último elemento (2)\n",
    "List2 = [[3, 4],List]                   # Hacer una lista de listas\n",
    "\n",
    "# Tuplas\n",
    "c = (0, 1, 2, 3, 'cuatro', 'cinco')\n",
    "print(c[0])      # Selecciona el primer elemento de la tupla\n",
    "print(c[5])      # Selecciona el último elemento de la tupla\n",
    "print(c[0:2])    # Selecciona los primeros dos elementos con posición 0 y 2 sin el último elemento (2)\n",
    "print(List, type(List))\n",
    "print(c, type(c))\n",
    "\n",
    "#Diferencia entre tuplas y listas\n",
    "al = [\"apples\", \"bananas\", \"oranges\"]\n",
    "print(al)\n",
    "al[0] = \"berries\"\n",
    "print(al)\n",
    "\n",
    "at = (\"apples\", \"bananas\", \"oranges\")\n",
    "at[0] = \"berries\""
   ]
  },
  {
   "cell_type": "markdown",
   "metadata": {},
   "source": [
    "## Operaciones básicas\n",
    "Las operaciones básicas en Python, se muestran en la siguiente tabla, en donde las **asignaciones aumentadas (a += b)** son equivalentes a las operaciones aritméticas **(a = a + b)**. Algunas operaciones también estan definidas para caracteres.\n",
    "\\begin{array}{|c|l|} \\hline\n",
    "Símbolo   & Operación\\text{ }aumentada & Operación &      \\\\ \\hline\n",
    "+         & a\\text{ } += b             & a = a + b  & Suma \\\\ \\hline\n",
    "-         & a\\text{ } -= b             & a = a - b  & Resta \\\\ \\hline\n",
    "*         & a\\text{ } *= b             & a = a * b  & Mulitiplicación\\\\ \\hline\n",
    "/         & a\\text{ } /= b             & a = a / b  & División \\\\ \\hline\n",
    "/         & a\\text{ } //= b             & a = a // b  & División \\text{ } truncada \\\\ \\hline\n",
    "**        & a\\text{ } **= b            & a = a ** b & Esponente \\\\ \\hline\n",
    "\\%         & a\\text{ } \\%= b           & a = a \\% b & División \\text{ } modular\\\\ \\hline\n",
    "\\end{array}\n",
    "\n"
   ]
  },
  {
   "cell_type": "code",
   "execution_count": null,
   "metadata": {},
   "outputs": [],
   "source": [
    "# Operaciones básicas\n",
    "n_1 = 2\n",
    "n_2 = 3\n",
    "print('n_1 = {}, n_2 = {},\\nn_1 + n_2 = {}'.format(n_1,n_2,n_1 + n_2))\n",
    "n_1 += n_2\n",
    "print('n_1 += n_2\\n=> n_1 = {}'.format(n_1))\n",
    "n_1 = 2\n",
    "n_2 = 3\n",
    "print('n_1 * n_2 = {}'.format(n_1 * n_2))\n",
    "print('n_2 / n_1 = {}'.format(n_2 / n_1))\n",
    "print('n_2 // n_1 = {}'.format(n_2 // n_1))\n",
    "print('n_1 ** n_2 = {}'.format(n_1 ** n_2))\n",
    "print('n_1 % n_2 = {} \\n'.format(n_2 // n_1))\n",
    "s_1  = 'uno'\n",
    "s_2 = 'dos'\n",
    "print('s_1 = {}, s_2 = {},\\ns1 + s_2 = {}'.format(s_1,s_2,s_1 + s_2))"
   ]
  },
  {
   "cell_type": "markdown",
   "metadata": {},
   "source": [
    "## Operadores de comparación\n",
    "Además de las operaciones básicas, las variables se pueden comparar, como se muestra a continuación\n",
    "\\begin{array}{|c|l|} \\hline\n",
    "Símbolo  & Operación      \\\\ \\hline\n",
    "<        & \\text{Menor que} \\\\ \\hline\n",
    ">        & \\text{Mayor que} \\\\ \\hline\n",
    "<=       & \\text{Menor o igual que}\\\\ \\hline\n",
    ">=       & \\text{Mayor o igual que} \\\\ \\hline\n",
    "==       & \\text{Igual a}\\\\ \\hline\n",
    "=!       & \\text{Diferente de}\\\\ \\hline\n",
    "\\end{array}"
   ]
  },
  {
   "cell_type": "code",
   "execution_count": null,
   "metadata": {},
   "outputs": [],
   "source": [
    "a = 2 \n",
    "b = 1.99\n",
    "c = '2'\n",
    "print('a = {}, b = {}, c  = \\'{}\\' '.format(a,b,c))\n",
    "print('a > b,  {}'.format(a > b))\n",
    "print('a < b,  {}'.format(a < b))\n",
    "print('a == c, {}'.format(a == c))\n",
    "print('a != c, {}'.format(a != c))"
   ]
  },
  {
   "cell_type": "markdown",
   "metadata": {},
   "source": [
    "## Funciones \n",
    "En Python se pueden crear funciones si se requiere realizar una operacion constantemente. Las funciones tienen elementos de entrada (inputs) y de salida (outputs) que se extraen con la función return. La sintaxis es la siguiente:\n",
    "\\begin{array}{ll} \n",
    "def   & función(input):     \\\\\n",
    "      & \\text{operaciones} \\\\ \n",
    "      & return(output)     \\\\ \n",
    "\\end{array}\n",
    "La *indentación* es muy importante en Python, al crear funciones, estas tienen que estar bien indentadas. \n",
    "### Librerias\n",
    "Python cuenta con varias librerias que contienen funciones predefinidas. Para usarlas, se tienen que importar con la función *import*. En este curso se utilizará una libreria con funciones matemáticas [numpy] y una librería para graficar [matplotlib]. Si el nombre de la librería es muy largo, se pueden renombrar con *as*.\n",
    "\n",
    "\\begin{array}{llL} \n",
    "import  & \\text{numpy }            &    as &   \\text{ np}\\\\ \n",
    "import  & \\text{matplotlib.pyplot }&    as &   \\text{ plt}\\\\ \n",
    "\\end{array}\n",
    "\n",
    "[numpy]: https://www.numpy.org/devdocs/user/quickstart.html\n",
    "[matplotlib]: https://matplotlib.org/users/index.html\n",
    "\n",
    "#### Numpy\n",
    "Con la librería de numpy se pueden crear vectores y matrices de la siguiente forma:\n",
    "* Vector con N entradas x = np.array([1, 2, ..., N]) \n",
    "* Vector con N ceros    x = np.zeros(N)\n",
    "* Vector con N unos     x = np.ones(N)\n",
    "* Matriz con (N,N) entradas A = np.array(([1, 2, ..., N],[1, 2, ..., N],[1, 2, ..., N],[1, 2, ..., N]))\n",
    "\n",
    "\n"
   ]
  },
  {
   "cell_type": "code",
   "execution_count": null,
   "metadata": {},
   "outputs": [],
   "source": [
    "# Ejemplos\n",
    "import numpy as np\n",
    "N = 4\n",
    "\n",
    "# Vector con 4 entradas distintas de cero\n",
    "x = np.array([1, 2, 3, 4])    \n",
    "print('x = {}'.format(x))\n",
    "\n",
    "# Vector con 4 entradas iguales a cero\n",
    "x = np.zeros(N)\n",
    "print('x = {}'.format(x))\n",
    "\n",
    "# Vector con 4 entradas iguales a uno\n",
    "x = np.ones(N)\n",
    "print('x = {}'.format(x))\n",
    "\n",
    "# Matrix de cuatro por cuatro\n",
    "A = np.array(([1, 2, 3, 4],[1, 2, 3, 4],[1, 2, 3, 4],[1, 2, 3, 4]))\n",
    "print('A = \\n{}'.format(A))\n",
    "\n",
    "        "
   ]
  },
  {
   "cell_type": "markdown",
   "metadata": {},
   "source": [
    "#### Matplotlib\n",
    "Esta librería sirve para graficar funciones, la sintaxis básica es:\n",
    "* Graficar x vs y \n",
    "\n",
    "*plt.plot(x,y)*\n",
    "* Agregar título \n",
    "\n",
    "*plt.title('Grafica de x vs y', fontsize=16)*\n",
    "* Agregar nombre al eje x \n",
    "\n",
    "*plt.xlabel('Valores', fontsize=14)*\n",
    "* Agregar nombre al eje y \n",
    "\n",
    "*plt.ylabel('Promedios', fontsize=14)*\n",
    "* Mostrar la gráfica\n",
    "\n",
    "*plt.show()*"
   ]
  },
  {
   "cell_type": "code",
   "execution_count": null,
   "metadata": {},
   "outputs": [],
   "source": [
    "# Ejemplo: Gráfica de la función $f(x)= 2x^2$\n",
    "\n",
    "import numpy as np\n",
    "import matplotlib.pyplot as plt\n",
    "N = 100\n",
    "x = np.array([x for x in range(N)]) \n",
    "y = 2 * x**2\n",
    "plt.plot(x,y)\n",
    "plt.title('Grafica de x vs 2*x^2', fontsize=16)\n",
    "plt.xlabel('x', fontsize=14)\n",
    "plt.ylabel('2*x^2', fontsize=14)\n",
    "plt.show()"
   ]
  },
  {
   "cell_type": "markdown",
   "metadata": {},
   "source": [
    "## Condicionales\n",
    "Los condicionales se usan para realizar una operación si (if) algo pasa, la sintaxis es la siguiente.\n",
    "### If\n",
    "\\begin{array}{ll} \n",
    "if    & condición:     \\\\\n",
    "      & \\text{operaciones} \\\\ \n",
    "elif  & condición:     \\\\ \n",
    "      & \\text{operaciones} \\\\ \n",
    "else: & \\\\\n",
    "      & \\text{operaciones} \\\\ \n",
    "\\end{array}\n",
    "\n"
   ]
  },
  {
   "cell_type": "markdown",
   "metadata": {},
   "source": [
    "## Ciclos\n",
    "### While\n",
    "El ciclo while sirve para realizar operaciones siempre y cuando se cumplan una o varias condiciones. La sitaxis es la siguiente.\n",
    "\n",
    "\n",
    "\\begin{array}{ll} \n",
    "while & condición:     \\\\\n",
    "      & \\text{operaciones} \\\\ \n",
    "else: & \\\\\n",
    "      & \\text{operaciones} \\\\ \n",
    "\\end{array}\n",
    "\n",
    "\n",
    "\\begin{array}{ll} \n",
    "while & \\text{(condición1) and/or (condición2)}:     \\\\\n",
    "      & \\text{operaciones} \\\\ \n",
    "\\end{array}\n"
   ]
  },
  {
   "cell_type": "markdown",
   "metadata": {},
   "source": [
    "## Ejemplo\n",
    "Se realiza un ciclo hasta que:\n",
    "\n",
    "a) Se alcance el máximo número de iteraciones\n"
   ]
  },
  {
   "cell_type": "code",
   "execution_count": null,
   "metadata": {},
   "outputs": [],
   "source": [
    "MaxIter  = 10\n",
    "contador = 0\n",
    "while (contador < MaxIter):\n",
    "        contador +=  1\n",
    "        print('contador = {}'.format(contador))    "
   ]
  },
  {
   "cell_type": "markdown",
   "metadata": {},
   "source": [
    "b) Iniciando con una variable p = 1, multiplicar esta variable por 0.1 y parar cuando p < Tol = 1e-7\n"
   ]
  },
  {
   "cell_type": "code",
   "execution_count": null,
   "metadata": {},
   "outputs": [],
   "source": [
    "Tol      = 1e-7\n",
    "p        = 1.0\n",
    "while (p > Tol):\n",
    "        p = p*0.1\n",
    "        print('p = {}'.format(p))"
   ]
  },
  {
   "cell_type": "markdown",
   "metadata": {},
   "source": [
    "### For\n",
    "El ciclo for sirve para realizar operaciones hasta que se cumpla una determinada condición. La sitaxis es como sigue.\n",
    "\n",
    "\\begin{array}{ll} \n",
    "for & \\text{variable in range(0,n):}     \\\\\n",
    "      & \\text{operaciones} \\\\ \n",
    "\\end{array}\n",
    "\n"
   ]
  },
  {
   "cell_type": "code",
   "execution_count": null,
   "metadata": {},
   "outputs": [],
   "source": [
    "# Ejemplo: este programa agrega valores a una lista a\n",
    "nMax = 15\n",
    "a = []\n",
    "for n in range(0,nMax):\n",
    "    a.append(n)\n",
    "print(a)"
   ]
  },
  {
   "cell_type": "markdown",
   "metadata": {},
   "source": [
    "### Break y  Continue\n",
    "Los ciclos se pueden parar con la función $break$ y parte del ciclo se puede saltar con la función $continue$.\n",
    "\n",
    "**Ejemplo:** Se inicia un ciclo hasta que la tolerancia dada sea menor que Tol, sin pasarse de MaxIter iteraciones con las funciones break y continue\n"
   ]
  },
  {
   "cell_type": "code",
   "execution_count": null,
   "metadata": {},
   "outputs": [],
   "source": [
    "# Break\n",
    "# Definición de variables\n",
    "MaxIter  = 10     # número máximo de iteraciones\n",
    "contador = 0      # contador\n",
    "Tol      = 1e-7   # tolerancia\n",
    "p = 1.0           # vaalor inicial de la variable\n",
    "for i in range(0,MaxIter-1):\n",
    "    contador +=  1\n",
    "    p = p*0.1\n",
    "    print('contador = {}, p = {} '.format(contador,p)) \n",
    "    if p < Tol:\n",
    "        break"
   ]
  },
  {
   "cell_type": "code",
   "execution_count": null,
   "metadata": {},
   "outputs": [],
   "source": [
    "# Continue\n",
    "# Definición de variables\n",
    "MaxIter  = 10     # número máximo de iteraciones\n",
    "contador = 0      # contador\n",
    "Tol      = 1e-7   # tolerancia\n",
    "p = 1.0           # vaalor inicial de la variable\n",
    "for i in range(0,MaxIter-1):\n",
    "    if p > Tol:\n",
    "        contador +=  1\n",
    "        p = p*0.1\n",
    "        print('contador = {}, p = {} '.format(contador,p)) \n",
    "        continue # Se salta el resto del ciclo"
   ]
  },
  {
   "cell_type": "markdown",
   "metadata": {},
   "source": [
    "\n"
   ]
  }
 ],
 "metadata": {
  "kernelspec": {
   "display_name": "Python 3",
   "language": "python",
   "name": "python3"
  },
  "language_info": {
   "codemirror_mode": {
    "name": "ipython",
    "version": 3
   },
   "file_extension": ".py",
   "mimetype": "text/x-python",
   "name": "python",
   "nbconvert_exporter": "python",
   "pygments_lexer": "ipython3",
   "version": "3.7.0"
  }
 },
 "nbformat": 4,
 "nbformat_minor": 2
}
