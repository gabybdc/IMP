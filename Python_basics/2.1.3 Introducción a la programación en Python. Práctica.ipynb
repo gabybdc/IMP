{
 "cells": [
  {
   "cell_type": "markdown",
   "metadata": {},
   "source": [
    "# Práctica 1\n",
    "1. Crear funciones que calculen los promedios aritmético (Av_A(x)) y armónico (Av_H(x)) del vector:\n",
    "\n",
    "    x  = [1, 2, 1, 2, 1, 2, 1, 2, 1]\n",
    "    "
   ]
  },
  {
   "cell_type": "code",
   "execution_count": null,
   "metadata": {},
   "outputs": [],
   "source": [
    "import numpy as np\n",
    "# Funciones que calculan promedios (A, aritmético, H, armónico)\n",
    "\n",
    "\n",
    "\n",
    "\n",
    "# Escribe tus funciones aquí\n",
    "\n",
    "\n",
    "\n",
    "\n",
    "# Imprimir resultados\n",
    "Prom_A = Av_A(x)\n",
    "print('El promedio aritmético es\\n x_A = {}\\n'.format(Prom_A))\n",
    "Prom_H = Av_H(x)\n",
    "Armonico, = plt.plot(Prom_H, label='Armónico')\n",
    "print('El promedio armónico es x_H = {}\\n'.format(Prom_H))"
   ]
  },
  {
   "cell_type": "markdown",
   "metadata": {},
   "source": [
    "2. Graficar el resutado con el código dado a continuación."
   ]
  },
  {
   "cell_type": "code",
   "execution_count": null,
   "metadata": {},
   "outputs": [],
   "source": [
    "import matplotlib.pyplot as plt\n",
    "# Código que grafica el tipo de promedio ('A', aritmético, 'H', armónico)\n",
    "Aritmetico, = plt.plot(Prom_A, label='Aritmético')\n",
    "Armonico,   = plt.plot(Prom_H, label='Armónico')\n",
    "plt.legend(handles=[Aritmetico, Armonico])\n",
    "# Add title and axis names\n",
    "plt.title('Promedio', fontsize=16)\n",
    "plt.xlabel('Valores', fontsize=14)\n",
    "plt.ylabel('Promedios', fontsize=14)\n",
    "plt.show()"
   ]
  },
  {
   "cell_type": "markdown",
   "metadata": {},
   "source": [
    "3. Con el vector dado y las funciones creadas en 1, hacer un programa que calcule el promedio aritmético ó armónico dependiendo de la elección del usuario. Para elegir se utiliza la función input:"
   ]
  },
  {
   "cell_type": "code",
   "execution_count": null,
   "metadata": {},
   "outputs": [],
   "source": [
    "prom = input(\"¿Que promedio quieres obtener? (A) aritmético ó (H) armónico: \")\n",
    "\n",
    "# Inserta aquí tu programa\n"
   ]
  },
  {
   "cell_type": "markdown",
   "metadata": {},
   "source": [
    "4. Crear un ciclo *while* que multiplique a p=1 por 0.1 y que pare cuando p $<$ Tol=$1e-7$ o si alcanza el máximo número de iteraciones MaxIter = 10."
   ]
  },
  {
   "cell_type": "code",
   "execution_count": null,
   "metadata": {},
   "outputs": [],
   "source": [
    "# Definición de variables\n",
    "MaxIter  = 10     # número máximo de iteraciones\n",
    "contador = 0      # contador\n",
    "Tol      = 1e-7   # tolerancia\n",
    "p = 1.0           # vaalor inicial de la variable\n",
    "# Inserta aquí tu programa\n",
    "\n"
   ]
  },
  {
   "cell_type": "markdown",
   "metadata": {},
   "source": [
    "5. Crear un ciclo *while* que multiplique a p=1 por 0.1 usando $Continue,$ que corra si MaxIter $<10$ o p $<1e-7$ siguen siendo validos."
   ]
  },
  {
   "cell_type": "code",
   "execution_count": null,
   "metadata": {},
   "outputs": [],
   "source": [
    "# Definición de variables\n",
    "MaxIter  = 10     # número máximo de iteraciones\n",
    "contador = 0      # contador\n",
    "Tol      = 1e-7   # tolerancia\n",
    "p = 1.0           # vaalor inicial de la variable\n",
    "# Inserta aquí tu programa\n"
   ]
  },
  {
   "cell_type": "markdown",
   "metadata": {},
   "source": [
    "6. Crear una matriz de cuatro por cuatro con un ciclo for, en donde cada entrada sea la suma de los índices i y j, \n",
    "\n",
    "   e.g., para j = 0, i = 0, la entrada B[0,0] = j + i =0  "
   ]
  },
  {
   "cell_type": "code",
   "execution_count": null,
   "metadata": {},
   "outputs": [],
   "source": [
    "# Definición de variables\n",
    "contador = 0     # contador\n",
    "ni = 4           # número de índices i\n",
    "nj = 4           # número de índices j\n",
    "B  = np.zeros((ni,nj)) \n",
    "# Inserta aquí tu programa\n"
   ]
  },
  {
   "cell_type": "markdown",
   "metadata": {},
   "source": [
    "7. Repetir los ejercicios realizados para el ciclo $while$, utilizando un ciclo $for$ y la función $break$ (ejercicios 5 y 6)."
   ]
  },
  {
   "cell_type": "code",
   "execution_count": null,
   "metadata": {},
   "outputs": [],
   "source": [
    "# Ciclo for y función break (5)\n",
    "# Definición de variables\n",
    "MaxIter  = 10     # número máximo de iteraciones\n",
    "contador = 0      # contador\n",
    "Tol      = 1e-7   # tolerancia\n",
    "p = 1.0           # vaalor inicial de la variable\n",
    "# Inserta aquí tu programa\n"
   ]
  },
  {
   "cell_type": "code",
   "execution_count": null,
   "metadata": {},
   "outputs": [],
   "source": [
    "# Ciclo for y función break (6)\n",
    "# Definición de variables\n",
    "MaxIter  = 10     # número máximo de iteraciones\n",
    "contador = 0      # contador\n",
    "Tol      = 1e-7   # tolerancia\n",
    "p = 1.0           # vaalor inicial de la variable\n",
    "# Inserta aquí tu programa"
   ]
  }
 ],
 "metadata": {
  "kernelspec": {
   "display_name": "Python 3",
   "language": "python",
   "name": "python3"
  },
  "language_info": {
   "codemirror_mode": {
    "name": "ipython",
    "version": 3
   },
   "file_extension": ".py",
   "mimetype": "text/x-python",
   "name": "python",
   "nbconvert_exporter": "python",
   "pygments_lexer": "ipython3",
   "version": "3.7.0"
  }
 },
 "nbformat": 4,
 "nbformat_minor": 2
}
